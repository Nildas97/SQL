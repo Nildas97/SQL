{
 "cells": [
  {
   "cell_type": "markdown",
   "id": "6985420c",
   "metadata": {},
   "source": [
    "# INSERT, UPDATE, DELETE AND ALTER TABLES"
   ]
  },
  {
   "cell_type": "markdown",
   "id": "af7b9e38",
   "metadata": {},
   "source": [
    "### the INSERT INTO statement is used to insert new records in a table <br> \n",
    "### SYNTAX"
   ]
  },
  {
   "cell_type": "markdown",
   "id": "0d9cafc5",
   "metadata": {},
   "source": [
    "### INSERT INTO table_name <br> (column1, column2, column3,.... columnN) <br> VALUES <br> (value1, value2, value3,.... valueN);"
   ]
  },
  {
   "cell_type": "markdown",
   "id": "e12d7843",
   "metadata": {},
   "source": [
    "### EXAMPLE"
   ]
  },
  {
   "cell_type": "markdown",
   "id": "246d0a2b",
   "metadata": {},
   "source": [
    "### INSERT INTO customer <br> (ID, Name, Age, City, Salary) <br> VALUES <br> (1, 'Sam', 26, 'Delhi', 9000), <br> (2, 'Sam', 31, 'Mumbai', 6000), <br> (3, 'Ram', 24, 'Banglore', 8000);"
   ]
  }
 ],
 "metadata": {
  "kernelspec": {
   "display_name": "Python 3 (ipykernel)",
   "language": "python",
   "name": "python3"
  },
  "language_info": {
   "codemirror_mode": {
    "name": "ipython",
    "version": 3
   },
   "file_extension": ".py",
   "mimetype": "text/x-python",
   "name": "python",
   "nbconvert_exporter": "python",
   "pygments_lexer": "ipython3",
   "version": "3.11.5"
  }
 },
 "nbformat": 4,
 "nbformat_minor": 5
}
