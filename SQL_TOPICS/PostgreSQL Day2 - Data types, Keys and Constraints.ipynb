{
 "cells": [
  {
   "cell_type": "markdown",
   "id": "30c85be4",
   "metadata": {},
   "source": [
    "# Data types, Primary and Foreign Keys & Constraints"
   ]
  },
  {
   "cell_type": "markdown",
   "id": "cfebae49",
   "metadata": {},
   "source": [
    "### first comes the RDBMS it is a management system for managing databases. <br> inside this the database, data are stored in table format. <br> inside the tables, comes data which are stored in rows and columns structure."
   ]
  },
  {
   "cell_type": "markdown",
   "id": "8ac12e18",
   "metadata": {},
   "source": [
    "# Data Types"
   ]
  },
  {
   "cell_type": "markdown",
   "id": "23875b6b",
   "metadata": {},
   "source": [
    "## before creating rows and columns inside tables, determining the data types is very important. \n",
    "## 1. Data type of a column defines what values the column can store in tables. <br> 2. Defined while creating tables in database <br> 3. Data types mainly classified into three categories: \n",
    "### a. string - char, varchar etc. <br> b. numeric - int, float, bool etc. <br> c. date & time - date, datetime etc."
   ]
  },
  {
   "cell_type": "markdown",
   "id": "0d2832a8",
   "metadata": {},
   "source": [
    "## commonly used data types in SQL"
   ]
  },
  {
   "cell_type": "markdown",
   "id": "d40c904f",
   "metadata": {},
   "source": [
    "### 1. int: used for the integer value. <br> 2. float: used to specify a decimal point number. <br> 3. bool: used to specify boolean values true and false. <br> 4. char: fixed length string containing letters, numbers and special characters. <br> 5. varchar: variable length string containing letters, numbers and special characters. <br> 6. date: date format YYYY-MM-DD. <br> 7. datetime: date and time combine, format is YYYY-MM-DD hh:mm:ss."
   ]
  },
  {
   "cell_type": "markdown",
   "id": "2367c9e7",
   "metadata": {},
   "source": [
    "# Primary and Foreign Keys"
   ]
  },
  {
   "cell_type": "markdown",
   "id": "f50efeee",
   "metadata": {},
   "source": [
    "### PRIMARY KEY (PK)\n",
    "### a primary key is a unique column we set in a table to easily identify and locate data in queries. <br> a table can have only one primary key, whcich should be unique and NOT NULL."
   ]
  },
  {
   "cell_type": "markdown",
   "id": "72e99691",
   "metadata": {},
   "source": [
    "### FOREIGN KEY(FK)\n",
    "### a foreign key is a column used to link two or more tables together. <br> a table can have any number of foreign keys, can contain duplicate and NULL values. "
   ]
  },
  {
   "cell_type": "markdown",
   "id": "3d2bb14b",
   "metadata": {},
   "source": [
    "# Constraints"
   ]
  },
  {
   "cell_type": "markdown",
   "id": "5f9dcdad",
   "metadata": {},
   "source": [
    "### constraints are used to specify rules for data in a table. <br> this ensures the accuracy and reliability of the data in the table. <br> constraints can be specified when the table is created with the CREATE TABLE statement, or <br> after the table is created with the ALTER TABLE statement\n",
    "### syntax\n",
    "### CREATE TABLE table_name (<br> column1 datatype constraint, <br> column2 datatype constraint,<br> column3 datatype constraint, <br> .... <br>);"
   ]
  },
  {
   "cell_type": "markdown",
   "id": "1af82ea0",
   "metadata": {},
   "source": [
    "# commonly used constaint in SQL"
   ]
  },
  {
   "cell_type": "markdown",
   "id": "e0b9c0f4",
   "metadata": {},
   "source": [
    "### 1. NOT NULL - ensures that a column have a null value. <br> 2. UNIQUE - ensures that all values in a common are different. <br> 3. PRIMARY SHOTs - a combination of a NOT NULL and UNIQUE. <br> 4. FOREIGN KEY - prevents actions that would destroy links between tables (used to link multiple tables together). <br> 5. CHECK - ensures that the values in a column satisfies a specific condition. <br> 6. DEFAULT - sets a default value for a common if no value is specified <br> 7. CREATE INDEX - used to create and retrieve data from the database very quickly."
   ]
  }
 ],
 "metadata": {
  "kernelspec": {
   "display_name": "Python 3 (ipykernel)",
   "language": "python",
   "name": "python3"
  },
  "language_info": {
   "codemirror_mode": {
    "name": "ipython",
    "version": 3
   },
   "file_extension": ".py",
   "mimetype": "text/x-python",
   "name": "python",
   "nbconvert_exporter": "python",
   "pygments_lexer": "ipython3",
   "version": "3.11.5"
  }
 },
 "nbformat": 4,
 "nbformat_minor": 5
}
