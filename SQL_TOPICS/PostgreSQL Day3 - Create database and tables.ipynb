{
 "cells": [
  {
   "cell_type": "markdown",
   "id": "2b4153fa",
   "metadata": {},
   "source": [
    "# CREATE DATABASE AND CREATE TABLES IN SQL"
   ]
  },
  {
   "cell_type": "markdown",
   "id": "2de5844c",
   "metadata": {},
   "source": [
    "### the CREATE DATABASE statement is used to create a new database in the SQL <br> \n",
    "### SYNTAX"
   ]
  },
  {
   "cell_type": "markdown",
   "id": "7bbb439b",
   "metadata": {},
   "source": [
    "### CREATE DATABASE database_name;"
   ]
  },
  {
   "cell_type": "markdown",
   "id": "b8d58079",
   "metadata": {},
   "source": [
    "### EXAMPLE"
   ]
  },
  {
   "cell_type": "markdown",
   "id": "d7dc0e8c",
   "metadata": {},
   "source": [
    "### CREATE DATABASE customerDB;"
   ]
  },
  {
   "cell_type": "markdown",
   "id": "54d4e06e",
   "metadata": {},
   "source": [
    "### the CREATE TABLE statement is used to create a new table in database <br> \n",
    "### SYNTAX"
   ]
  },
  {
   "cell_type": "markdown",
   "id": "5f1f2563",
   "metadata": {},
   "source": [
    "### CREATE TABLE table_name <br> (<br> column_name1 datatype constraint, <br> column_name1 datatype constraint, <br> column_name1 datatype constraint, <br>);"
   ]
  },
  {
   "cell_type": "markdown",
   "id": "86a4d0e0",
   "metadata": {},
   "source": [
    "### EXAMPLE"
   ]
  },
  {
   "cell_type": "markdown",
   "id": "c3b78699",
   "metadata": {},
   "source": [
    "### CREATE TABLE customer <br> (<br> \"ID\" int8 PRIMARY KEY, <br> \"Name\" varchar(50) NOT NULL, <br> \"Age\" int NOT NULL, <br> \"City\" char(50), <br> \"Salary\" numeric, <br>);"
   ]
  }
 ],
 "metadata": {
  "kernelspec": {
   "display_name": "Python 3 (ipykernel)",
   "language": "python",
   "name": "python3"
  },
  "language_info": {
   "codemirror_mode": {
    "name": "ipython",
    "version": 3
   },
   "file_extension": ".py",
   "mimetype": "text/x-python",
   "name": "python",
   "nbconvert_exporter": "python",
   "pygments_lexer": "ipython3",
   "version": "3.11.5"
  }
 },
 "nbformat": 4,
 "nbformat_minor": 5
}
