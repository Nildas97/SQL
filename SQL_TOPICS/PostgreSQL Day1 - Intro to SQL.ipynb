{
 "cells": [
  {
   "cell_type": "markdown",
   "id": "275b7735",
   "metadata": {},
   "source": [
    "# INTRODUCTION TO SQL"
   ]
  },
  {
   "cell_type": "markdown",
   "id": "1210786b",
   "metadata": {},
   "source": [
    "### 1. what is SQL <br> 2. SQL applications <br> 3. SQL v/s NOSQL <br> 4. types of SQL commands <br> 5. what is databases <br> 6. excel v/s database in SQL"
   ]
  },
  {
   "cell_type": "markdown",
   "id": "d89373ab",
   "metadata": {},
   "source": [
    "# what is SQL"
   ]
  },
  {
   "cell_type": "markdown",
   "id": "649395f9",
   "metadata": {},
   "source": [
    "### SQL ( Structured Query Language) <br> SQL is a programming language used to interact with databases"
   ]
  },
  {
   "cell_type": "markdown",
   "id": "e06789a9",
   "metadata": {},
   "source": [
    "# SQL applications"
   ]
  },
  {
   "cell_type": "markdown",
   "id": "601826b2",
   "metadata": {},
   "source": [
    "### C - create <br> R - read <br> U - update <br> D - delete\n",
    "### CRUD, is a acronym for create, read(select), update, delete statements in SQL."
   ]
  },
  {
   "cell_type": "markdown",
   "id": "a632dc10",
   "metadata": {},
   "source": [
    "# SQL vs NOSQL"
   ]
  },
  {
   "cell_type": "markdown",
   "id": "7869fc23",
   "metadata": {},
   "source": [
    "### RELATIONAL DATABASE \n",
    "### 1. SQL database <br> 2. Data stored in tables <br> 3. These databases have fixed or static or predefined schema <br> 4. Low performance with huge volumes of data <br> 5. Example - PostgreSQL, MySQL, MS SQL server."
   ]
  },
  {
   "cell_type": "markdown",
   "id": "e17205bc",
   "metadata": {},
   "source": [
    "### Note: schema are the abstract design structure that represents or defined the storage of data in database.\n",
    "\n",
    "### these includes tables, relationships, packages, types, functions, views, procedures, directories, indexes, fields, sequences, queues, triggers etc."
   ]
  },
  {
   "cell_type": "markdown",
   "id": "17bc991c",
   "metadata": {},
   "source": [
    "### NON RELATIONAL DATABASES \n",
    "### 1. NOSQL database <br> 2. Data stored are either key-value pairs, document-based, graph databases or wide-column stores. <br> 3. They have dynamic schema <br> 4. Easily work with huge volumes of data <br> 5. Example - MongoDB, Cassandra, Hbase"
   ]
  },
  {
   "cell_type": "markdown",
   "id": "339cd2b0",
   "metadata": {},
   "source": [
    "# SQL commands"
   ]
  },
  {
   "cell_type": "markdown",
   "id": "ca64a151",
   "metadata": {},
   "source": [
    "### there are mainly 3 types of sql commands: <br> 1. DDL (Data Definition Language) - create, alter and drop <br> 2. DML (Data Manipulation) - select, insert, update and delete. <br> 3. DCL (Data Control Language) - grant and revoke permission to users."
   ]
  },
  {
   "cell_type": "markdown",
   "id": "3195e574",
   "metadata": {},
   "source": [
    "# What is Database"
   ]
  },
  {
   "cell_type": "markdown",
   "id": "b0baf55f",
   "metadata": {},
   "source": [
    "### database is a system that allow users to store and organise data."
   ]
  },
  {
   "cell_type": "markdown",
   "id": "c7661622",
   "metadata": {},
   "source": [
    "# Excel v/s Database"
   ]
  },
  {
   "cell_type": "markdown",
   "id": "418ebd96",
   "metadata": {},
   "source": [
    "### Excel\n",
    "### 1. Easy to use-untrained person can work. <br> 2. Data stored less data. <br> 3. Good for one time analysis, quick charts. <br> 4. No data integrity due to manual operations. <br> 5. Low search/Filter capabilities."
   ]
  },
  {
   "cell_type": "markdown",
   "id": "4d70b4fe",
   "metadata": {},
   "source": [
    "### Database\n",
    "### 1. Trained person can work. <br> 2. Stores large amount of data. <br> 3. Can automate tasks <br> 4. High data integrity <br> 5. High search/filter capabilities."
   ]
  },
  {
   "cell_type": "markdown",
   "id": "1e10f2ac",
   "metadata": {},
   "source": [
    "# SQL databases"
   ]
  },
  {
   "cell_type": "markdown",
   "id": "7c0d0f50",
   "metadata": {},
   "source": [
    "### 1. MySQL <br> 2. PostgreSQL <br> 3. Oracle database <br> 4. MS SQL server <br> 5. IBM database <br> 6. Snowflake <br> and etc"
   ]
  }
 ],
 "metadata": {
  "kernelspec": {
   "display_name": "Python 3 (ipykernel)",
   "language": "python",
   "name": "python3"
  },
  "language_info": {
   "codemirror_mode": {
    "name": "ipython",
    "version": 3
   },
   "file_extension": ".py",
   "mimetype": "text/x-python",
   "name": "python",
   "nbconvert_exporter": "python",
   "pygments_lexer": "ipython3",
   "version": "3.11.5"
  }
 },
 "nbformat": 4,
 "nbformat_minor": 5
}
